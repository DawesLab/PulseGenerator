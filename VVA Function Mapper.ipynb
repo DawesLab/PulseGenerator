{
 "metadata": {
  "name": "VVA Function Mapper"
 },
 "nbformat": 3,
 "nbformat_minor": 0,
 "worksheets": [
  {
   "cells": [
    {
     "cell_type": "code",
     "collapsed": false,
     "input": [
      "import numpy as np\n",
      "from pylab import *"
     ],
     "language": "python",
     "metadata": {},
     "outputs": [],
     "prompt_number": 3
    },
    {
     "cell_type": "code",
     "collapsed": false,
     "input": [
      "#user parameters:\n",
      "def funcfit(x):\n",
      "    return exp(-(2**4)*2*(x-0.5)**2) #*intensity normalized* intensity function to map voltage to\n",
      "domain = 1.0 #time domain (0 to xx seconds)\n",
      "steps = 2**10 #number of steps to generate map for\n",
      "maxvolt = 5.0 #max voltage pulse generator can produce\n",
      "gain = 2 #gain of AOM box VVA driver\n",
      "precision = 2**12 #number of DAC analog steps\n",
      "\n",
      "#processing----------------------------------------------------------------------------------\n",
      "voltrange = maxvolt*gain #the voltage range over which the VVA buffer can drive the VVA\n",
      "\n",
      "def intensity(x): #intensity as a function of voltage (determined from VVA datasheet)\n",
      "    return (0.4E-5*x**5-0.15E-3*x**4+0.13E-2*x**3+0.5E-2*x**2-0.*x-0.7E-3) #((4E-6)*x**5 - 0.0002*x**4 + 0.0014*x**3 + 0.0051*x**2 - 0.0073*x - 0.0007)\n",
      "\n",
      "#find max intensity in range of voltages allowed (voltrange)\n",
      "inorm = intensity(voltrange)\n",
      "\n",
      "#normalize intensity plot\n",
      "def inormfunc(x):\n",
      "    return intensity(x)/inorm\n",
      "\n",
      "#find closest fit\n",
      "voltmap = np.zeros(steps)\n",
      "diff = np.zeros(precision) + 1 # Fills output list with zeros.\n",
      "\n",
      "for i in range(steps): #increment through whole domain\n",
      "    \n",
      "    diffs = [abs(funcfit(i*domain/(steps-1)) - inormfunc(j*voltrange/(precision-1))) for j in range(precision)]\n",
      "    voltmap[i] = np.argmin(diffs) # Returns the index of the minimum value (the minimum difference).\n",
      "\n",
      "targetcurve = np.zeros(steps)\n",
      "for i in range(steps):\n",
      "    targetcurve[i] = funcfit(i*domain/(steps-1))\n",
      "\n",
      "plot(targetcurve)\n",
      "\n",
      "plot(inormfunc(voltrange*voltmap[:]/(precision-1)))\n",
      "\n",
      "plot(voltmap[:]/precision)\n",
      "\n",
      "show()"
     ],
     "language": "python",
     "metadata": {},
     "outputs": [],
     "prompt_number": 6
    },
    {
     "cell_type": "code",
     "collapsed": false,
     "input": [
      "print voltmap[:]"
     ],
     "language": "python",
     "metadata": {},
     "outputs": []
    },
    {
     "cell_type": "code",
     "collapsed": false,
     "input": [
      "np.save(\"gaussian\",voltmap)"
     ],
     "language": "python",
     "metadata": {},
     "outputs": [],
     "prompt_number": 9
    },
    {
     "cell_type": "code",
     "collapsed": false,
     "input": [],
     "language": "python",
     "metadata": {},
     "outputs": []
    }
   ],
   "metadata": {}
  }
 ]
}